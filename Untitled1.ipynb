{
 "cells": [
  {
   "cell_type": "code",
   "execution_count": null,
   "id": "9385a3b4-20c4-477b-be8e-fff854b8dde4",
   "metadata": {},
   "outputs": [],
   "source": []
  }
 ],
 "metadata": {
  "kernelspec": {
   "display_name": "",
   "name": ""
  },
  "language_info": {
   "name": ""
  }
 },
 "nbformat": 4,
 "nbformat_minor": 5
}
